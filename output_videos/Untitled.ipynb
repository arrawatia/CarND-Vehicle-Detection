{
 "cells": [
  {
   "cell_type": "code",
   "execution_count": 1,
   "metadata": {},
   "outputs": [],
   "source": [
    "\n",
    "import moviepy.editor as mp\n",
    "from moviepy.editor import VideoFileClip\n",
    "import glob\n",
    "\n",
    "svc = glob.glob(\"svc*.mp4\")\n"
   ]
  },
  {
   "cell_type": "code",
   "execution_count": 8,
   "metadata": {},
   "outputs": [],
   "source": [
    "svc = ['rf-0-1-project_video.mp4',\n",
    " 'rf-1-2-project_video.mp4',\n",
    "        'rf-2-3-project_video.mp4',\n",
    "        'rf-3-4-project_video.mp4',\n",
    "       'rf-4-5-project_video.mp4',\n",
    "       'rf-5-6-project_video.mp4',\n",
    "       'rf-6-7-project_video.mp4',\n",
    " 'rf-7-8-project_video.mp4',\n",
    " 'rf-8-9-project_video.mp4',\n",
    " 'rf-9-10-project_video.mp4',\n",
    " 'rf-10-11-project_video.mp4',\n",
    " 'rf-11-12-project_video.mp4',\n",
    " 'rf-12-13-project_video.mp4',\n",
    " 'rf-13-14-project_video.mp4',\n",
    " 'rf-14-15-project_video.mp4',\n",
    " 'rf-15-16-project_video.mp4',\n",
    " 'rf-16-17-project_video.mp4',\n",
    " 'rf-17-18-project_video.mp4',\n",
    " 'rf-18-19-project_video.mp4',\n",
    " 'rf-19-20-project_video.mp4',\n",
    "\n",
    " 'rf-20-21-project_video.mp4',\n",
    " 'rf-21-22-project_video.mp4',\n",
    " 'rf-22-23-project_video.mp4',\n",
    " 'rf-23-24-project_video.mp4',\n",
    " 'rf-24-25-project_video.mp4',\n",
    " 'rf-25-26-project_video.mp4',\n",
    " 'rf-26-27-project_video.mp4',\n",
    " 'rf-27-28-project_video.mp4',\n",
    " 'rf-28-29-project_video.mp4',\n",
    " 'rf-29-30-project_video.mp4',\n",
    "\n",
    " 'rf-30-31-project_video.mp4',\n",
    " 'rf-31-32-project_video.mp4',\n",
    " 'rf-32-33-project_video.mp4',\n",
    " 'rf-33-34-project_video.mp4',\n",
    " 'rf-34-35-project_video.mp4',\n",
    " 'rf-35-36-project_video.mp4',\n",
    " 'rf-36-37-project_video.mp4',\n",
    " 'rf-37-38-project_video.mp4',\n",
    " 'rf-38-39-project_video.mp4',\n",
    " 'rf-39-40-project_video.mp4',\n",
    " \n",
    " 'rf-40-41-project_video.mp4',\n",
    " 'rf-41-42-project_video.mp4',\n",
    " 'rf-42-43-project_video.mp4',\n",
    " 'rf-43-44-project_video.mp4',\n",
    " 'rf-44-45-project_video.mp4',\n",
    " 'rf-45-46-project_video.mp4',\n",
    " 'rf-46-47-project_video.mp4',\n",
    " 'rf-47-48-project_video.mp4',\n",
    " 'rf-48-49-project_video.mp4',\n",
    " 'rf-49-50-project_video.mp4',\n",
    " \n",
    " 'rf-50-50.4-project_video.mp4'\n",
    " ]"
   ]
  },
  {
   "cell_type": "code",
   "execution_count": 9,
   "metadata": {},
   "outputs": [
    {
     "name": "stdout",
     "output_type": "stream",
     "text": [
      "[MoviePy] >>>> Building video rf-project_video.mp4\n",
      "[MoviePy] Writing video rf-project_video.mp4\n"
     ]
    },
    {
     "name": "stderr",
     "output_type": "stream",
     "text": [
      "100%|█████████▉| 1260/1261 [00:29<00:00, 42.41it/s]\n"
     ]
    },
    {
     "name": "stdout",
     "output_type": "stream",
     "text": [
      "[MoviePy] Done.\n",
      "[MoviePy] >>>> Video ready: rf-project_video.mp4 \n",
      "\n"
     ]
    }
   ],
   "source": [
    "clips_svc = [VideoFileClip(file) for file in svc]\n",
    "final_video_svc = mp.concatenate_videoclips(clips_svc)\n",
    "final_video_svc.write_videofile('rf-project_video.mp4', audio=False)"
   ]
  },
  {
   "cell_type": "code",
   "execution_count": null,
   "metadata": {},
   "outputs": [],
   "source": []
  }
 ],
 "metadata": {
  "kernelspec": {
   "display_name": "Python 3",
   "language": "python",
   "name": "python3"
  },
  "language_info": {
   "codemirror_mode": {
    "name": "ipython",
    "version": 3
   },
   "file_extension": ".py",
   "mimetype": "text/x-python",
   "name": "python",
   "nbconvert_exporter": "python",
   "pygments_lexer": "ipython3",
   "version": "3.5.2"
  },
  "widgets": {
   "state": {},
   "version": "1.1.2"
  }
 },
 "nbformat": 4,
 "nbformat_minor": 2
}
